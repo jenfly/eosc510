{
 "cells": [
  {
   "cell_type": "markdown",
   "metadata": {},
   "source": [
    "# EOSC 510 Tutorial 2\n",
    "\n",
    "## Testing multiple linear regression on artificial data"
   ]
  },
  {
   "cell_type": "code",
   "execution_count": 1,
   "metadata": {
    "collapsed": true
   },
   "outputs": [],
   "source": [
    "%matplotlib inline\n",
    "\n",
    "import itertools\n",
    "from IPython.display import display \n",
    "import matplotlib as mpl\n",
    "import matplotlib.pyplot as plt\n",
    "import numpy as np\n",
    "import pandas as pd\n",
    "import scipy.io as sio\n",
    "import scipy.stats\n",
    "import statsmodels.formula.api as smf\n",
    "\n",
    "mpl.rcParams['legend.fontsize'] = 'small'"
   ]
  },
  {
   "cell_type": "markdown",
   "metadata": {},
   "source": [
    "### Quick reference of relevant Python commands:\n",
    "\n",
    "Operation | Matlab | Python\n",
    "--- | --- | ---\n",
    "Matrix multiplication | `X * Y` | `np.dot(X, Y)` \n",
    "Matrix transpose | `X'` | `X.transpose()`\n",
    "Matrix inverse | `X^(-1)` | `np.linalg.inv(X)`\n",
    "Correlation coeffs & p-values | `corrcoef(x1, x2)` | `scipy.stats.linregress(x1, x2)`\n",
    "Multiple linear regression | `regress()` | `statsmodels.formula.api.ols()`\n",
    "\n"
   ]
  },
  {
   "cell_type": "markdown",
   "metadata": {},
   "source": [
    "### Example 1\n",
    "\n",
    "Create artificial data set based on:\n",
    "$Y = a_0 + a_1X_1 + a_2X_2 + a_3X_3 + a_4X_4$"
   ]
  },
  {
   "cell_type": "code",
   "execution_count": 2,
   "metadata": {
    "collapsed": true
   },
   "outputs": [],
   "source": [
    "def readmat(filename, varname):\n",
    "    \"\"\"Read selected variable from .mat and output as array of floats\"\"\"\n",
    "    data_in = sio.loadmat(filename)\n",
    "    return data_in[varname].astype(float)"
   ]
  },
  {
   "cell_type": "code",
   "execution_count": 3,
   "metadata": {
    "collapsed": false
   },
   "outputs": [
    {
     "data": {
      "text/html": [
       "<div>\n",
       "<table border=\"1\" class=\"dataframe\">\n",
       "  <thead>\n",
       "    <tr style=\"text-align: right;\">\n",
       "      <th></th>\n",
       "      <th>X1</th>\n",
       "      <th>X2</th>\n",
       "      <th>X3</th>\n",
       "      <th>X4</th>\n",
       "    </tr>\n",
       "  </thead>\n",
       "  <tbody>\n",
       "    <tr>\n",
       "      <th>1</th>\n",
       "      <td>50.0</td>\n",
       "      <td>61.0</td>\n",
       "      <td>49.0</td>\n",
       "      <td>94.0</td>\n",
       "    </tr>\n",
       "    <tr>\n",
       "      <th>2</th>\n",
       "      <td>96.0</td>\n",
       "      <td>27.0</td>\n",
       "      <td>34.0</td>\n",
       "      <td>88.0</td>\n",
       "    </tr>\n",
       "    <tr>\n",
       "      <th>3</th>\n",
       "      <td>35.0</td>\n",
       "      <td>66.0</td>\n",
       "      <td>91.0</td>\n",
       "      <td>56.0</td>\n",
       "    </tr>\n",
       "    <tr>\n",
       "      <th>4</th>\n",
       "      <td>59.0</td>\n",
       "      <td>69.0</td>\n",
       "      <td>37.0</td>\n",
       "      <td>63.0</td>\n",
       "    </tr>\n",
       "    <tr>\n",
       "      <th>5</th>\n",
       "      <td>23.0</td>\n",
       "      <td>75.0</td>\n",
       "      <td>12.0</td>\n",
       "      <td>59.0</td>\n",
       "    </tr>\n",
       "  </tbody>\n",
       "</table>\n",
       "</div>"
      ],
      "text/plain": [
       "     X1    X2    X3    X4\n",
       "1  50.0  61.0  49.0  94.0\n",
       "2  96.0  27.0  34.0  88.0\n",
       "3  35.0  66.0  91.0  56.0\n",
       "4  59.0  69.0  37.0  63.0\n",
       "5  23.0  75.0  12.0  59.0"
      ]
     },
     "execution_count": 3,
     "metadata": {},
     "output_type": "execute_result"
    }
   ],
   "source": [
    "X = readmat('Xdata.mat', 'X')\n",
    "n, npred = X.shape\n",
    "ind = np.arange(1, n + 1)\n",
    "data = pd.DataFrame(X, index=ind, columns=['X1', 'X2', 'X3', 'X4'])\n",
    "data.head()"
   ]
  },
  {
   "cell_type": "code",
   "execution_count": 4,
   "metadata": {
    "collapsed": false
   },
   "outputs": [
    {
     "data": {
      "text/html": [
       "<div>\n",
       "<table border=\"1\" class=\"dataframe\">\n",
       "  <thead>\n",
       "    <tr style=\"text-align: right;\">\n",
       "      <th></th>\n",
       "      <th>X1</th>\n",
       "      <th>X2</th>\n",
       "      <th>X3</th>\n",
       "      <th>X4</th>\n",
       "      <th>Y</th>\n",
       "    </tr>\n",
       "  </thead>\n",
       "  <tbody>\n",
       "    <tr>\n",
       "      <th>1</th>\n",
       "      <td>50.0</td>\n",
       "      <td>61.0</td>\n",
       "      <td>49.0</td>\n",
       "      <td>94.0</td>\n",
       "      <td>-301.0</td>\n",
       "    </tr>\n",
       "    <tr>\n",
       "      <th>2</th>\n",
       "      <td>96.0</td>\n",
       "      <td>27.0</td>\n",
       "      <td>34.0</td>\n",
       "      <td>88.0</td>\n",
       "      <td>-208.0</td>\n",
       "    </tr>\n",
       "    <tr>\n",
       "      <th>3</th>\n",
       "      <td>35.0</td>\n",
       "      <td>66.0</td>\n",
       "      <td>91.0</td>\n",
       "      <td>56.0</td>\n",
       "      <td>-48.0</td>\n",
       "    </tr>\n",
       "    <tr>\n",
       "      <th>4</th>\n",
       "      <td>59.0</td>\n",
       "      <td>69.0</td>\n",
       "      <td>37.0</td>\n",
       "      <td>63.0</td>\n",
       "      <td>-220.0</td>\n",
       "    </tr>\n",
       "    <tr>\n",
       "      <th>5</th>\n",
       "      <td>23.0</td>\n",
       "      <td>75.0</td>\n",
       "      <td>12.0</td>\n",
       "      <td>59.0</td>\n",
       "      <td>-327.0</td>\n",
       "    </tr>\n",
       "  </tbody>\n",
       "</table>\n",
       "</div>"
      ],
      "text/plain": [
       "     X1    X2    X3    X4      Y\n",
       "1  50.0  61.0  49.0  94.0 -301.0\n",
       "2  96.0  27.0  34.0  88.0 -208.0\n",
       "3  35.0  66.0  91.0  56.0  -48.0\n",
       "4  59.0  69.0  37.0  63.0 -220.0\n",
       "5  23.0  75.0  12.0  59.0 -327.0"
      ]
     },
     "execution_count": 4,
     "metadata": {},
     "output_type": "execute_result"
    }
   ],
   "source": [
    "a0, a1, a2, a3, a4 = 0, 1, -2, 3, -4\n",
    "Y = a0 + a1*data['X1'] + a2*data['X2'] + a3*data['X3'] + a4*data['X4']\n",
    "data['Y'] = Y\n",
    "data.head()"
   ]
  },
  {
   "cell_type": "code",
   "execution_count": 5,
   "metadata": {
    "collapsed": false
   },
   "outputs": [
    {
     "data": {
      "text/plain": [
       "<matplotlib.axes._subplots.AxesSubplot at 0xa9a7358>"
      ]
     },
     "execution_count": 5,
     "metadata": {},
     "output_type": "execute_result"
    },
    {
     "data": {
      "image/png": "[encoded data removed]",
      "text/plain": [
       "<matplotlib.figure.Figure at 0xa94c630>"
      ]
     },
     "metadata": {},
     "output_type": "display_data"
    }
   ],
   "source": [
    "style = {'X1' : 'b', 'X2' : 'r', 'X3' : 'g', 'X4' : 'm', 'Y' : 'k'}\n",
    "data.plot.line(style=style)"
   ]
  },
  {
   "cell_type": "code",
   "execution_count": 6,
   "metadata": {
    "collapsed": true
   },
   "outputs": [],
   "source": [
    "# Multiple linear regression model\n",
    "def mlr(formula='Y ~ X', data=None, verbose=True):\n",
    "    lm = smf.ols(formula=formula, data=data).fit()\n",
    "    Y_regr = lm.predict()\n",
    "    if verbose:\n",
    "        display(lm.summary())\n",
    "    return lm, Y_regr"
   ]
  },
  {
   "cell_type": "code",
   "execution_count": 7,
   "metadata": {
    "collapsed": false
   },
   "outputs": [
    {
     "data": {
      "text/html": [
       "<table class=\"simpletable\">\n",
       "<caption>OLS Regression Results</caption>\n",
       "<tr>\n",
       "  <th>Dep. Variable:</th>            <td>Y</td>        <th>  R-squared:         </th> <td>   1.000</td> \n",
       "</tr>\n",
       "<tr>\n",
       "  <th>Model:</th>                   <td>OLS</td>       <th>  Adj. R-squared:    </th> <td>   1.000</td> \n",
       "</tr>\n",
       "<tr>\n",
       "  <th>Method:</th>             <td>Least Squares</td>  <th>  F-statistic:       </th> <td>1.842e+31</td>\n",
       "</tr>\n",
       "<tr>\n",
       "  <th>Date:</th>             <td>Thu, 14 Sep 2017</td> <th>  Prob (F-statistic):</th>  <td>  0.00</td>  \n",
       "</tr>\n",
       "<tr>\n",
       "  <th>Time:</th>                 <td>21:55:18</td>     <th>  Log-Likelihood:    </th> <td>  1415.4</td> \n",
       "</tr>\n",
       "<tr>\n",
       "  <th>No. Observations:</th>      <td>    50</td>      <th>  AIC:               </th> <td>  -2821.</td> \n",
       "</tr>\n",
       "<tr>\n",
       "  <th>Df Residuals:</th>          <td>    45</td>      <th>  BIC:               </th> <td>  -2811.</td> \n",
       "</tr>\n",
       "<tr>\n",
       "  <th>Df Model:</th>              <td>     4</td>      <th>                     </th>     <td> </td>    \n",
       "</tr>\n",
       "<tr>\n",
       "  <th>Covariance Type:</th>      <td>nonrobust</td>    <th>                     </th>     <td> </td>    \n",
       "</tr>\n",
       "</table>\n",
       "<table class=\"simpletable\">\n",
       "<tr>\n",
       "      <td></td>         <th>coef</th>     <th>std err</th>      <th>t</th>      <th>P>|t|</th> <th>[95.0% Conf. Int.]</th> \n",
       "</tr>\n",
       "<tr>\n",
       "  <th>Intercept</th> <td> 3.197e-14</td> <td> 8.02e-14</td> <td>    0.399</td> <td> 0.692</td> <td> -1.3e-13  1.93e-13</td>\n",
       "</tr>\n",
       "<tr>\n",
       "  <th>X1</th>        <td>    1.0000</td> <td> 6.94e-16</td> <td> 1.44e+15</td> <td> 0.000</td> <td>    1.000     1.000</td>\n",
       "</tr>\n",
       "<tr>\n",
       "  <th>X2</th>        <td>   -2.0000</td> <td> 6.05e-16</td> <td>-3.31e+15</td> <td> 0.000</td> <td>   -2.000    -2.000</td>\n",
       "</tr>\n",
       "<tr>\n",
       "  <th>X3</th>        <td>    3.0000</td> <td> 7.47e-16</td> <td> 4.02e+15</td> <td> 0.000</td> <td>    3.000     3.000</td>\n",
       "</tr>\n",
       "<tr>\n",
       "  <th>X4</th>        <td>   -4.0000</td> <td> 7.32e-16</td> <td>-5.47e+15</td> <td> 0.000</td> <td>   -4.000    -4.000</td>\n",
       "</tr>\n",
       "</table>\n",
       "<table class=\"simpletable\">\n",
       "<tr>\n",
       "  <th>Omnibus:</th>       <td> 2.634</td> <th>  Durbin-Watson:     </th> <td>   0.955</td>\n",
       "</tr>\n",
       "<tr>\n",
       "  <th>Prob(Omnibus):</th> <td> 0.268</td> <th>  Jarque-Bera (JB):  </th> <td>   1.508</td>\n",
       "</tr>\n",
       "<tr>\n",
       "  <th>Skew:</th>          <td> 0.095</td> <th>  Prob(JB):          </th> <td>   0.471</td>\n",
       "</tr>\n",
       "<tr>\n",
       "  <th>Kurtosis:</th>      <td> 2.171</td> <th>  Cond. No.          </th> <td>    434.</td>\n",
       "</tr>\n",
       "</table>"
      ],
      "text/plain": [
       "<class 'statsmodels.iolib.summary.Summary'>\n",
       "\"\"\"\n",
       "                            OLS Regression Results                            \n",
       "==============================================================================\n",
       "Dep. Variable:                      Y   R-squared:                       1.000\n",
       "Model:                            OLS   Adj. R-squared:                  1.000\n",
       "Method:                 Least Squares   F-statistic:                 1.842e+31\n",
       "Date:                Thu, 14 Sep 2017   Prob (F-statistic):               0.00\n",
       "Time:                        21:55:18   Log-Likelihood:                 1415.4\n",
       "No. Observations:                  50   AIC:                            -2821.\n",
       "Df Residuals:                      45   BIC:                            -2811.\n",
       "Df Model:                           4                                         \n",
       "Covariance Type:            nonrobust                                         \n",
       "==============================================================================\n",
       "                 coef    std err          t      P>|t|      [95.0% Conf. Int.]\n",
       "------------------------------------------------------------------------------\n",
       "Intercept   3.197e-14   8.02e-14      0.399      0.692      -1.3e-13  1.93e-13\n",
       "X1             1.0000   6.94e-16   1.44e+15      0.000         1.000     1.000\n",
       "X2            -2.0000   6.05e-16  -3.31e+15      0.000        -2.000    -2.000\n",
       "X3             3.0000   7.47e-16   4.02e+15      0.000         3.000     3.000\n",
       "X4            -4.0000   7.32e-16  -5.47e+15      0.000        -4.000    -4.000\n",
       "==============================================================================\n",
       "Omnibus:                        2.634   Durbin-Watson:                   0.955\n",
       "Prob(Omnibus):                  0.268   Jarque-Bera (JB):                1.508\n",
       "Skew:                           0.095   Prob(JB):                        0.471\n",
       "Kurtosis:                       2.171   Cond. No.                         434.\n",
       "==============================================================================\n",
       "\n",
       "Warnings:\n",
       "[1] Standard Errors assume that the covariance matrix of the errors is correctly specified.\n",
       "\"\"\""
      ]
     },
     "metadata": {},
     "output_type": "display_data"
    }
   ],
   "source": [
    "lm, Y_regr = mlr(formula='Y ~ X1 + X2 + X3 + X4', data=data)\n",
    "data['Y_regr'] = Y_regr"
   ]
  },
  {
   "cell_type": "code",
   "execution_count": 8,
   "metadata": {
    "collapsed": false
   },
   "outputs": [
    {
     "data": {
      "text/plain": [
       "<matplotlib.axes._subplots.AxesSubplot at 0xc0a0908>"
      ]
     },
     "execution_count": 8,
     "metadata": {},
     "output_type": "execute_result"
    },
    {
     "data": {
      "image/png": "[encoded data removed]",
      "text/plain": [
       "<matplotlib.figure.Figure at 0xab75b38>"
      ]
     },
     "metadata": {},
     "output_type": "display_data"
    }
   ],
   "source": [
    "style['Y_regr'] = 'y--'\n",
    "data.plot.line(style=style)"
   ]
  },
  {
   "cell_type": "markdown",
   "metadata": {},
   "source": [
    "Instead of using `smf.ols()` lets derive the coefficients from  minimizing sum of squared errors (SSE) with respect to a \n",
    "$a=(X^T X)^{-1} X^T y$"
   ]
  },
  {
   "cell_type": "code",
   "execution_count": 9,
   "metadata": {
    "collapsed": false
   },
   "outputs": [
    {
     "data": {
      "text/plain": [
       "array([ 1., -2.,  3., -4.])"
      ]
     },
     "execution_count": 9,
     "metadata": {},
     "output_type": "execute_result"
    }
   ],
   "source": [
    "def calc_coeffs(X, Y):\n",
    "    return np.dot(np.linalg.inv(np.dot(X.transpose(), X)), np.dot(X.transpose(), Y))\n",
    "areg = calc_coeffs(X, Y)\n",
    "areg"
   ]
  },
  {
   "cell_type": "markdown",
   "metadata": {},
   "source": [
    "Can't find a direct equivalent of Matlab's stepwisefit() function in any of the Python stats modules.  Could write a function myself to mimic the Matlab code:\n",
    "```\n",
    "% applying stepwise regression on Y and X\n",
    "[a SE PVAL INMODEL STATS NEXTSTEP HISTORY]=stepwisefit(X,Y);\n",
    "% constant coefficient \n",
    "a0_st=STATS.intercept\n",
    "\n",
    "```"
   ]
  },
  {
   "cell_type": "code",
   "execution_count": 10,
   "metadata": {
    "collapsed": true
   },
   "outputs": [],
   "source": [
    "# Simple linear regression between Y and Y_regr\n",
    "\n",
    "def corrcoef(x1, x2, verbose=True):\n",
    "    \"\"\"Return correlation coeff and p-value\"\"\"\n",
    "    m, b0, r, p, stderr = scipy.stats.linregress(x1, x2)\n",
    "    if verbose:\n",
    "        print('Correlation coefficient: %f' % r)\n",
    "        print('p-value: %f' % p)\n",
    "    return r, p\n",
    "\n",
    "def scatterplot(data, xname, yname):\n",
    "    \"\"\"Scatter plot and one-to-one line\"\"\"\n",
    "    x, y = data[xname], data[yname]\n",
    "    r, p = corrcoef(x, y)\n",
    "    data.plot.scatter(x=xname, y=yname)\n",
    "    plt.title('r=%.2f' % r)\n",
    "    combo = np.concatenate((x, y))\n",
    "    xline = np.arange(min(combo), max(combo) + 1)\n",
    "    plt.plot(xline, xline, 'k')"
   ]
  },
  {
   "cell_type": "code",
   "execution_count": 11,
   "metadata": {
    "collapsed": false
   },
   "outputs": [
    {
     "name": "stdout",
     "output_type": "stream",
     "text": [
      "Correlation coefficient: 1.000000\n",
      "p-value: 0.000000\n"
     ]
    },
    {
     "data": {
      "image/png": "[encoded data removed]",
      "text/plain": [
       "<matplotlib.figure.Figure at 0x6391d30>"
      ]
     },
     "metadata": {},
     "output_type": "display_data"
    }
   ],
   "source": [
    "scatterplot(data, 'Y', 'Y_regr')"
   ]
  },
  {
   "cell_type": "markdown",
   "metadata": {},
   "source": [
    "### Example 2\n",
    "\n",
    "Create artificial data set based on:\n",
    "$Y = a_0 + a_1X_1 + a_2X_2 + a_3X_3 + a_4X_4 + Y_{rand}$"
   ]
  },
  {
   "cell_type": "code",
   "execution_count": 12,
   "metadata": {
    "collapsed": false
   },
   "outputs": [
    {
     "data": {
      "text/html": [
       "<div>\n",
       "<table border=\"1\" class=\"dataframe\">\n",
       "  <thead>\n",
       "    <tr style=\"text-align: right;\">\n",
       "      <th></th>\n",
       "      <th>X1</th>\n",
       "      <th>X2</th>\n",
       "      <th>X3</th>\n",
       "      <th>X4</th>\n",
       "      <th>Y</th>\n",
       "      <th>Ynew</th>\n",
       "    </tr>\n",
       "  </thead>\n",
       "  <tbody>\n",
       "    <tr>\n",
       "      <th>1</th>\n",
       "      <td>50.0</td>\n",
       "      <td>61.0</td>\n",
       "      <td>49.0</td>\n",
       "      <td>94.0</td>\n",
       "      <td>-301.0</td>\n",
       "      <td>44.0</td>\n",
       "    </tr>\n",
       "    <tr>\n",
       "      <th>2</th>\n",
       "      <td>96.0</td>\n",
       "      <td>27.0</td>\n",
       "      <td>34.0</td>\n",
       "      <td>88.0</td>\n",
       "      <td>-208.0</td>\n",
       "      <td>192.0</td>\n",
       "    </tr>\n",
       "    <tr>\n",
       "      <th>3</th>\n",
       "      <td>35.0</td>\n",
       "      <td>66.0</td>\n",
       "      <td>91.0</td>\n",
       "      <td>56.0</td>\n",
       "      <td>-48.0</td>\n",
       "      <td>127.0</td>\n",
       "    </tr>\n",
       "    <tr>\n",
       "      <th>4</th>\n",
       "      <td>59.0</td>\n",
       "      <td>69.0</td>\n",
       "      <td>37.0</td>\n",
       "      <td>63.0</td>\n",
       "      <td>-220.0</td>\n",
       "      <td>-90.0</td>\n",
       "    </tr>\n",
       "    <tr>\n",
       "      <th>5</th>\n",
       "      <td>23.0</td>\n",
       "      <td>75.0</td>\n",
       "      <td>12.0</td>\n",
       "      <td>59.0</td>\n",
       "      <td>-327.0</td>\n",
       "      <td>-152.0</td>\n",
       "    </tr>\n",
       "  </tbody>\n",
       "</table>\n",
       "</div>"
      ],
      "text/plain": [
       "     X1    X2    X3    X4      Y   Ynew\n",
       "1  50.0  61.0  49.0  94.0 -301.0   44.0\n",
       "2  96.0  27.0  34.0  88.0 -208.0  192.0\n",
       "3  35.0  66.0  91.0  56.0  -48.0  127.0\n",
       "4  59.0  69.0  37.0  63.0 -220.0  -90.0\n",
       "5  23.0  75.0  12.0  59.0 -327.0 -152.0"
      ]
     },
     "execution_count": 12,
     "metadata": {},
     "output_type": "execute_result"
    }
   ],
   "source": [
    "Yrand = readmat('Yrand.mat', 'Yrand')\n",
    "Yrand = Yrand.flatten()\n",
    "Ynew = Y + 5 * Yrand\n",
    "data = data.drop('Y_regr', axis=1)\n",
    "data['Ynew'] = Ynew\n",
    "data.head()"
   ]
  },
  {
   "cell_type": "code",
   "execution_count": 13,
   "metadata": {
    "collapsed": false
   },
   "outputs": [
    {
     "data": {
      "text/plain": [
       "<matplotlib.axes._subplots.AxesSubplot at 0xc364b38>"
      ]
     },
     "execution_count": 13,
     "metadata": {},
     "output_type": "execute_result"
    },
    {
     "data": {
      "image/png": "[encoded data removed]",
      "text/plain": [
       "<matplotlib.figure.Figure at 0xc4326d8>"
      ]
     },
     "metadata": {},
     "output_type": "display_data"
    }
   ],
   "source": [
    "style['Ynew'] = 'k--'\n",
    "data.plot.line(style=style)"
   ]
  },
  {
   "cell_type": "code",
   "execution_count": 14,
   "metadata": {
    "collapsed": false
   },
   "outputs": [
    {
     "data": {
      "text/html": [
       "<table class=\"simpletable\">\n",
       "<caption>OLS Regression Results</caption>\n",
       "<tr>\n",
       "  <th>Dep. Variable:</th>          <td>Ynew</td>       <th>  R-squared:         </th> <td>   0.512</td>\n",
       "</tr>\n",
       "<tr>\n",
       "  <th>Model:</th>                   <td>OLS</td>       <th>  Adj. R-squared:    </th> <td>   0.468</td>\n",
       "</tr>\n",
       "<tr>\n",
       "  <th>Method:</th>             <td>Least Squares</td>  <th>  F-statistic:       </th> <td>   11.78</td>\n",
       "</tr>\n",
       "<tr>\n",
       "  <th>Date:</th>             <td>Thu, 14 Sep 2017</td> <th>  Prob (F-statistic):</th> <td>1.25e-06</td>\n",
       "</tr>\n",
       "<tr>\n",
       "  <th>Time:</th>                 <td>21:55:19</td>     <th>  Log-Likelihood:    </th> <td> -322.34</td>\n",
       "</tr>\n",
       "<tr>\n",
       "  <th>No. Observations:</th>      <td>    50</td>      <th>  AIC:               </th> <td>   654.7</td>\n",
       "</tr>\n",
       "<tr>\n",
       "  <th>Df Residuals:</th>          <td>    45</td>      <th>  BIC:               </th> <td>   664.2</td>\n",
       "</tr>\n",
       "<tr>\n",
       "  <th>Df Model:</th>              <td>     4</td>      <th>                     </th>     <td> </td>   \n",
       "</tr>\n",
       "<tr>\n",
       "  <th>Covariance Type:</th>      <td>nonrobust</td>    <th>                     </th>     <td> </td>   \n",
       "</tr>\n",
       "</table>\n",
       "<table class=\"simpletable\">\n",
       "<tr>\n",
       "      <td></td>         <th>coef</th>     <th>std err</th>      <th>t</th>      <th>P>|t|</th> <th>[95.0% Conf. Int.]</th> \n",
       "</tr>\n",
       "<tr>\n",
       "  <th>Intercept</th> <td>  311.3389</td> <td>   99.440</td> <td>    3.131</td> <td> 0.003</td> <td>  111.057   511.621</td>\n",
       "</tr>\n",
       "<tr>\n",
       "  <th>X1</th>        <td>    1.0298</td> <td>    0.860</td> <td>    1.197</td> <td> 0.238</td> <td>   -0.703     2.762</td>\n",
       "</tr>\n",
       "<tr>\n",
       "  <th>X2</th>        <td>   -2.0571</td> <td>    0.750</td> <td>   -2.743</td> <td> 0.009</td> <td>   -3.567    -0.547</td>\n",
       "</tr>\n",
       "<tr>\n",
       "  <th>X3</th>        <td>    2.4550</td> <td>    0.926</td> <td>    2.651</td> <td> 0.011</td> <td>    0.590     4.320</td>\n",
       "</tr>\n",
       "<tr>\n",
       "  <th>X4</th>        <td>   -4.3413</td> <td>    0.908</td> <td>   -4.783</td> <td> 0.000</td> <td>   -6.170    -2.513</td>\n",
       "</tr>\n",
       "</table>\n",
       "<table class=\"simpletable\">\n",
       "<tr>\n",
       "  <th>Omnibus:</th>       <td>16.014</td> <th>  Durbin-Watson:     </th> <td>   1.736</td>\n",
       "</tr>\n",
       "<tr>\n",
       "  <th>Prob(Omnibus):</th> <td> 0.000</td> <th>  Jarque-Bera (JB):  </th> <td>   3.663</td>\n",
       "</tr>\n",
       "<tr>\n",
       "  <th>Skew:</th>          <td>-0.188</td> <th>  Prob(JB):          </th> <td>   0.160</td>\n",
       "</tr>\n",
       "<tr>\n",
       "  <th>Kurtosis:</th>      <td> 1.728</td> <th>  Cond. No.          </th> <td>    434.</td>\n",
       "</tr>\n",
       "</table>"
      ],
      "text/plain": [
       "<class 'statsmodels.iolib.summary.Summary'>\n",
       "\"\"\"\n",
       "                            OLS Regression Results                            \n",
       "==============================================================================\n",
       "Dep. Variable:                   Ynew   R-squared:                       0.512\n",
       "Model:                            OLS   Adj. R-squared:                  0.468\n",
       "Method:                 Least Squares   F-statistic:                     11.78\n",
       "Date:                Thu, 14 Sep 2017   Prob (F-statistic):           1.25e-06\n",
       "Time:                        21:55:19   Log-Likelihood:                -322.34\n",
       "No. Observations:                  50   AIC:                             654.7\n",
       "Df Residuals:                      45   BIC:                             664.2\n",
       "Df Model:                           4                                         \n",
       "Covariance Type:            nonrobust                                         \n",
       "==============================================================================\n",
       "                 coef    std err          t      P>|t|      [95.0% Conf. Int.]\n",
       "------------------------------------------------------------------------------\n",
       "Intercept    311.3389     99.440      3.131      0.003       111.057   511.621\n",
       "X1             1.0298      0.860      1.197      0.238        -0.703     2.762\n",
       "X2            -2.0571      0.750     -2.743      0.009        -3.567    -0.547\n",
       "X3             2.4550      0.926      2.651      0.011         0.590     4.320\n",
       "X4            -4.3413      0.908     -4.783      0.000        -6.170    -2.513\n",
       "==============================================================================\n",
       "Omnibus:                       16.014   Durbin-Watson:                   1.736\n",
       "Prob(Omnibus):                  0.000   Jarque-Bera (JB):                3.663\n",
       "Skew:                          -0.188   Prob(JB):                        0.160\n",
       "Kurtosis:                       1.728   Cond. No.                         434.\n",
       "==============================================================================\n",
       "\n",
       "Warnings:\n",
       "[1] Standard Errors assume that the covariance matrix of the errors is correctly specified.\n",
       "\"\"\""
      ]
     },
     "metadata": {},
     "output_type": "display_data"
    }
   ],
   "source": [
    "# Multiple linear regression model\n",
    "lm, Y_regr = mlr(formula='Ynew ~ X1 + X2 + X3 + X4', data=data)\n",
    "data['Y_regr'] = Y_regr"
   ]
  },
  {
   "cell_type": "code",
   "execution_count": 15,
   "metadata": {
    "collapsed": false
   },
   "outputs": [
    {
     "data": {
      "text/plain": [
       "<matplotlib.axes._subplots.AxesSubplot at 0xc6fd710>"
      ]
     },
     "execution_count": 15,
     "metadata": {},
     "output_type": "execute_result"
    },
    {
     "data": {
      "image/png": "[encoded data removed]",
      "text/plain": [
       "<matplotlib.figure.Figure at 0xc5d96a0>"
      ]
     },
     "metadata": {},
     "output_type": "display_data"
    }
   ],
   "source": [
    "data.plot.line(style=style)"
   ]
  },
  {
   "cell_type": "code",
   "execution_count": 16,
   "metadata": {
    "collapsed": false
   },
   "outputs": [
    {
     "name": "stdout",
     "output_type": "stream",
     "text": [
      "Correlation coefficient: 0.715219\n",
      "p-value: 0.000000\n"
     ]
    },
    {
     "data": {
      "image/png": "[encoded data removed]",
      "text/plain": [
       "<matplotlib.figure.Figure at 0x6c5ed68>"
      ]
     },
     "metadata": {},
     "output_type": "display_data"
    }
   ],
   "source": [
    "scatterplot(data, 'Ynew', 'Y_regr')"
   ]
  },
  {
   "cell_type": "markdown",
   "metadata": {},
   "source": [
    "#### Option 2: Cross validation\n",
    "\n",
    "Split the data into calibration sample and validation sample"
   ]
  },
  {
   "cell_type": "code",
   "execution_count": 17,
   "metadata": {
    "collapsed": true
   },
   "outputs": [],
   "source": [
    "isplit = 25\n",
    "data_cal = data.iloc[:isplit]\n",
    "data_val = data.iloc[isplit:]"
   ]
  },
  {
   "cell_type": "code",
   "execution_count": 18,
   "metadata": {
    "collapsed": false
   },
   "outputs": [
    {
     "name": "stdout",
     "output_type": "stream",
     "text": [
      "Calibration Data:\n"
     ]
    },
    {
     "data": {
      "text/html": [
       "<div>\n",
       "<table border=\"1\" class=\"dataframe\">\n",
       "  <thead>\n",
       "    <tr style=\"text-align: right;\">\n",
       "      <th></th>\n",
       "      <th>X1</th>\n",
       "      <th>X2</th>\n",
       "      <th>X3</th>\n",
       "      <th>X4</th>\n",
       "      <th>Y</th>\n",
       "      <th>Ynew</th>\n",
       "      <th>Y_regr</th>\n",
       "    </tr>\n",
       "  </thead>\n",
       "  <tbody>\n",
       "    <tr>\n",
       "      <th>1</th>\n",
       "      <td>50.0</td>\n",
       "      <td>61.0</td>\n",
       "      <td>49.0</td>\n",
       "      <td>94.0</td>\n",
       "      <td>-301.0</td>\n",
       "      <td>44.0</td>\n",
       "      <td>-50.447862</td>\n",
       "    </tr>\n",
       "    <tr>\n",
       "      <th>2</th>\n",
       "      <td>96.0</td>\n",
       "      <td>27.0</td>\n",
       "      <td>34.0</td>\n",
       "      <td>88.0</td>\n",
       "      <td>-208.0</td>\n",
       "      <td>192.0</td>\n",
       "      <td>56.086482</td>\n",
       "    </tr>\n",
       "    <tr>\n",
       "      <th>3</th>\n",
       "      <td>35.0</td>\n",
       "      <td>66.0</td>\n",
       "      <td>91.0</td>\n",
       "      <td>56.0</td>\n",
       "      <td>-48.0</td>\n",
       "      <td>127.0</td>\n",
       "      <td>191.898879</td>\n",
       "    </tr>\n",
       "    <tr>\n",
       "      <th>4</th>\n",
       "      <td>59.0</td>\n",
       "      <td>69.0</td>\n",
       "      <td>37.0</td>\n",
       "      <td>63.0</td>\n",
       "      <td>-220.0</td>\n",
       "      <td>-90.0</td>\n",
       "      <td>47.485487</td>\n",
       "    </tr>\n",
       "    <tr>\n",
       "      <th>5</th>\n",
       "      <td>23.0</td>\n",
       "      <td>75.0</td>\n",
       "      <td>12.0</td>\n",
       "      <td>59.0</td>\n",
       "      <td>-327.0</td>\n",
       "      <td>-152.0</td>\n",
       "      <td>-45.937334</td>\n",
       "    </tr>\n",
       "    <tr>\n",
       "      <th>6</th>\n",
       "      <td>76.0</td>\n",
       "      <td>46.0</td>\n",
       "      <td>79.0</td>\n",
       "      <td>21.0</td>\n",
       "      <td>137.0</td>\n",
       "      <td>302.0</td>\n",
       "      <td>397.748796</td>\n",
       "    </tr>\n",
       "    <tr>\n",
       "      <th>7</th>\n",
       "      <td>26.0</td>\n",
       "      <td>9.0</td>\n",
       "      <td>39.0</td>\n",
       "      <td>31.0</td>\n",
       "      <td>1.0</td>\n",
       "      <td>466.0</td>\n",
       "      <td>280.760873</td>\n",
       "    </tr>\n",
       "    <tr>\n",
       "      <th>8</th>\n",
       "      <td>51.0</td>\n",
       "      <td>23.0</td>\n",
       "      <td>25.0</td>\n",
       "      <td>48.0</td>\n",
       "      <td>-112.0</td>\n",
       "      <td>268.0</td>\n",
       "      <td>169.533953</td>\n",
       "    </tr>\n",
       "    <tr>\n",
       "      <th>9</th>\n",
       "      <td>70.0</td>\n",
       "      <td>92.0</td>\n",
       "      <td>41.0</td>\n",
       "      <td>24.0</td>\n",
       "      <td>-87.0</td>\n",
       "      <td>58.0</td>\n",
       "      <td>190.632000</td>\n",
       "    </tr>\n",
       "    <tr>\n",
       "      <th>10</th>\n",
       "      <td>90.0</td>\n",
       "      <td>16.0</td>\n",
       "      <td>10.0</td>\n",
       "      <td>85.0</td>\n",
       "      <td>-252.0</td>\n",
       "      <td>53.0</td>\n",
       "      <td>26.640985</td>\n",
       "    </tr>\n",
       "    <tr>\n",
       "      <th>11</th>\n",
       "      <td>96.0</td>\n",
       "      <td>83.0</td>\n",
       "      <td>14.0</td>\n",
       "      <td>20.0</td>\n",
       "      <td>-108.0</td>\n",
       "      <td>277.0</td>\n",
       "      <td>187.001595</td>\n",
       "    </tr>\n",
       "    <tr>\n",
       "      <th>12</th>\n",
       "      <td>55.0</td>\n",
       "      <td>54.0</td>\n",
       "      <td>95.0</td>\n",
       "      <td>23.0</td>\n",
       "      <td>140.0</td>\n",
       "      <td>565.0</td>\n",
       "      <td>390.263376</td>\n",
       "    </tr>\n",
       "    <tr>\n",
       "      <th>13</th>\n",
       "      <td>14.0</td>\n",
       "      <td>100.0</td>\n",
       "      <td>96.0</td>\n",
       "      <td>18.0</td>\n",
       "      <td>30.0</td>\n",
       "      <td>485.0</td>\n",
       "      <td>277.578268</td>\n",
       "    </tr>\n",
       "    <tr>\n",
       "      <th>14</th>\n",
       "      <td>15.0</td>\n",
       "      <td>8.0</td>\n",
       "      <td>58.0</td>\n",
       "      <td>23.0</td>\n",
       "      <td>81.0</td>\n",
       "      <td>381.0</td>\n",
       "      <td>352.865215</td>\n",
       "    </tr>\n",
       "    <tr>\n",
       "      <th>15</th>\n",
       "      <td>26.0</td>\n",
       "      <td>45.0</td>\n",
       "      <td>6.0</td>\n",
       "      <td>44.0</td>\n",
       "      <td>-222.0</td>\n",
       "      <td>-187.0</td>\n",
       "      <td>69.254966</td>\n",
       "    </tr>\n",
       "    <tr>\n",
       "      <th>16</th>\n",
       "      <td>85.0</td>\n",
       "      <td>11.0</td>\n",
       "      <td>24.0</td>\n",
       "      <td>32.0</td>\n",
       "      <td>7.0</td>\n",
       "      <td>117.0</td>\n",
       "      <td>296.237787</td>\n",
       "    </tr>\n",
       "    <tr>\n",
       "      <th>17</th>\n",
       "      <td>26.0</td>\n",
       "      <td>97.0</td>\n",
       "      <td>36.0</td>\n",
       "      <td>93.0</td>\n",
       "      <td>-432.0</td>\n",
       "      <td>3.0</td>\n",
       "      <td>-176.790601</td>\n",
       "    </tr>\n",
       "    <tr>\n",
       "      <th>18</th>\n",
       "      <td>82.0</td>\n",
       "      <td>1.0</td>\n",
       "      <td>83.0</td>\n",
       "      <td>44.0</td>\n",
       "      <td>153.0</td>\n",
       "      <td>363.0</td>\n",
       "      <td>406.465379</td>\n",
       "    </tr>\n",
       "    <tr>\n",
       "      <th>19</th>\n",
       "      <td>25.0</td>\n",
       "      <td>78.0</td>\n",
       "      <td>2.0</td>\n",
       "      <td>19.0</td>\n",
       "      <td>-201.0</td>\n",
       "      <td>134.0</td>\n",
       "      <td>99.054974</td>\n",
       "    </tr>\n",
       "    <tr>\n",
       "      <th>20</th>\n",
       "      <td>93.0</td>\n",
       "      <td>82.0</td>\n",
       "      <td>5.0</td>\n",
       "      <td>91.0</td>\n",
       "      <td>-420.0</td>\n",
       "      <td>-25.0</td>\n",
       "      <td>-144.360214</td>\n",
       "    </tr>\n",
       "    <tr>\n",
       "      <th>21</th>\n",
       "      <td>35.0</td>\n",
       "      <td>87.0</td>\n",
       "      <td>17.0</td>\n",
       "      <td>98.0</td>\n",
       "      <td>-480.0</td>\n",
       "      <td>-355.0</td>\n",
       "      <td>-215.302521</td>\n",
       "    </tr>\n",
       "    <tr>\n",
       "      <th>22</th>\n",
       "      <td>20.0</td>\n",
       "      <td>9.0</td>\n",
       "      <td>65.0</td>\n",
       "      <td>44.0</td>\n",
       "      <td>21.0</td>\n",
       "      <td>301.0</td>\n",
       "      <td>281.973554</td>\n",
       "    </tr>\n",
       "    <tr>\n",
       "      <th>23</th>\n",
       "      <td>26.0</td>\n",
       "      <td>40.0</td>\n",
       "      <td>74.0</td>\n",
       "      <td>12.0</td>\n",
       "      <td>120.0</td>\n",
       "      <td>235.0</td>\n",
       "      <td>385.399887</td>\n",
       "    </tr>\n",
       "    <tr>\n",
       "      <th>24</th>\n",
       "      <td>62.0</td>\n",
       "      <td>26.0</td>\n",
       "      <td>65.0</td>\n",
       "      <td>26.0</td>\n",
       "      <td>101.0</td>\n",
       "      <td>106.0</td>\n",
       "      <td>368.397689</td>\n",
       "    </tr>\n",
       "    <tr>\n",
       "      <th>25</th>\n",
       "      <td>48.0</td>\n",
       "      <td>81.0</td>\n",
       "      <td>46.0</td>\n",
       "      <td>41.0</td>\n",
       "      <td>-140.0</td>\n",
       "      <td>245.0</td>\n",
       "      <td>129.076924</td>\n",
       "    </tr>\n",
       "  </tbody>\n",
       "</table>\n",
       "</div>"
      ],
      "text/plain": [
       "      X1     X2    X3    X4      Y   Ynew      Y_regr\n",
       "1   50.0   61.0  49.0  94.0 -301.0   44.0  -50.447862\n",
       "2   96.0   27.0  34.0  88.0 -208.0  192.0   56.086482\n",
       "3   35.0   66.0  91.0  56.0  -48.0  127.0  191.898879\n",
       "4   59.0   69.0  37.0  63.0 -220.0  -90.0   47.485487\n",
       "5   23.0   75.0  12.0  59.0 -327.0 -152.0  -45.937334\n",
       "6   76.0   46.0  79.0  21.0  137.0  302.0  397.748796\n",
       "7   26.0    9.0  39.0  31.0    1.0  466.0  280.760873\n",
       "8   51.0   23.0  25.0  48.0 -112.0  268.0  169.533953\n",
       "9   70.0   92.0  41.0  24.0  -87.0   58.0  190.632000\n",
       "10  90.0   16.0  10.0  85.0 -252.0   53.0   26.640985\n",
       "11  96.0   83.0  14.0  20.0 -108.0  277.0  187.001595\n",
       "12  55.0   54.0  95.0  23.0  140.0  565.0  390.263376\n",
       "13  14.0  100.0  96.0  18.0   30.0  485.0  277.578268\n",
       "14  15.0    8.0  58.0  23.0   81.0  381.0  352.865215\n",
       "15  26.0   45.0   6.0  44.0 -222.0 -187.0   69.254966\n",
       "16  85.0   11.0  24.0  32.0    7.0  117.0  296.237787\n",
       "17  26.0   97.0  36.0  93.0 -432.0    3.0 -176.790601\n",
       "18  82.0    1.0  83.0  44.0  153.0  363.0  406.465379\n",
       "19  25.0   78.0   2.0  19.0 -201.0  134.0   99.054974\n",
       "20  93.0   82.0   5.0  91.0 -420.0  -25.0 -144.360214\n",
       "21  35.0   87.0  17.0  98.0 -480.0 -355.0 -215.302521\n",
       "22  20.0    9.0  65.0  44.0   21.0  301.0  281.973554\n",
       "23  26.0   40.0  74.0  12.0  120.0  235.0  385.399887\n",
       "24  62.0   26.0  65.0  26.0  101.0  106.0  368.397689\n",
       "25  48.0   81.0  46.0  41.0 -140.0  245.0  129.076924"
      ]
     },
     "metadata": {},
     "output_type": "display_data"
    },
    {
     "name": "stdout",
     "output_type": "stream",
     "text": [
      "\n",
      "Validation Data:\n"
     ]
    },
    {
     "data": {
      "text/html": [
       "<div>\n",
       "<table border=\"1\" class=\"dataframe\">\n",
       "  <thead>\n",
       "    <tr style=\"text-align: right;\">\n",
       "      <th></th>\n",
       "      <th>X1</th>\n",
       "      <th>X2</th>\n",
       "      <th>X3</th>\n",
       "      <th>X4</th>\n",
       "      <th>Y</th>\n",
       "      <th>Ynew</th>\n",
       "      <th>Y_regr</th>\n",
       "    </tr>\n",
       "  </thead>\n",
       "  <tbody>\n",
       "    <tr>\n",
       "      <th>26</th>\n",
       "      <td>36.0</td>\n",
       "      <td>44.0</td>\n",
       "      <td>55.0</td>\n",
       "      <td>60.0</td>\n",
       "      <td>-127.0</td>\n",
       "      <td>-112.0</td>\n",
       "      <td>132.440980</td>\n",
       "    </tr>\n",
       "    <tr>\n",
       "      <th>27</th>\n",
       "      <td>84.0</td>\n",
       "      <td>92.0</td>\n",
       "      <td>30.0</td>\n",
       "      <td>27.0</td>\n",
       "      <td>-118.0</td>\n",
       "      <td>82.0</td>\n",
       "      <td>165.020367</td>\n",
       "    </tr>\n",
       "    <tr>\n",
       "      <th>28</th>\n",
       "      <td>59.0</td>\n",
       "      <td>19.0</td>\n",
       "      <td>75.0</td>\n",
       "      <td>61.0</td>\n",
       "      <td>2.0</td>\n",
       "      <td>132.0</td>\n",
       "      <td>252.310645</td>\n",
       "    </tr>\n",
       "    <tr>\n",
       "      <th>29</th>\n",
       "      <td>55.0</td>\n",
       "      <td>27.0</td>\n",
       "      <td>19.0</td>\n",
       "      <td>72.0</td>\n",
       "      <td>-230.0</td>\n",
       "      <td>-125.0</td>\n",
       "      <td>46.502880</td>\n",
       "    </tr>\n",
       "    <tr>\n",
       "      <th>30</th>\n",
       "      <td>92.0</td>\n",
       "      <td>15.0</td>\n",
       "      <td>69.0</td>\n",
       "      <td>23.0</td>\n",
       "      <td>177.0</td>\n",
       "      <td>512.0</td>\n",
       "      <td>444.762696</td>\n",
       "    </tr>\n",
       "    <tr>\n",
       "      <th>31</th>\n",
       "      <td>29.0</td>\n",
       "      <td>14.0</td>\n",
       "      <td>19.0</td>\n",
       "      <td>12.0</td>\n",
       "      <td>10.0</td>\n",
       "      <td>470.0</td>\n",
       "      <td>306.951170</td>\n",
       "    </tr>\n",
       "    <tr>\n",
       "      <th>32</th>\n",
       "      <td>76.0</td>\n",
       "      <td>87.0</td>\n",
       "      <td>37.0</td>\n",
       "      <td>30.0</td>\n",
       "      <td>-107.0</td>\n",
       "      <td>-102.0</td>\n",
       "      <td>171.228248</td>\n",
       "    </tr>\n",
       "    <tr>\n",
       "      <th>33</th>\n",
       "      <td>76.0</td>\n",
       "      <td>58.0</td>\n",
       "      <td>63.0</td>\n",
       "      <td>32.0</td>\n",
       "      <td>21.0</td>\n",
       "      <td>396.0</td>\n",
       "      <td>286.029817</td>\n",
       "    </tr>\n",
       "    <tr>\n",
       "      <th>34</th>\n",
       "      <td>39.0</td>\n",
       "      <td>55.0</td>\n",
       "      <td>79.0</td>\n",
       "      <td>43.0</td>\n",
       "      <td>-6.0</td>\n",
       "      <td>394.0</td>\n",
       "      <td>245.623919</td>\n",
       "    </tr>\n",
       "    <tr>\n",
       "      <th>35</th>\n",
       "      <td>57.0</td>\n",
       "      <td>15.0</td>\n",
       "      <td>9.0</td>\n",
       "      <td>51.0</td>\n",
       "      <td>-150.0</td>\n",
       "      <td>305.0</td>\n",
       "      <td>139.866066</td>\n",
       "    </tr>\n",
       "    <tr>\n",
       "      <th>36</th>\n",
       "      <td>8.0</td>\n",
       "      <td>86.0</td>\n",
       "      <td>93.0</td>\n",
       "      <td>9.0</td>\n",
       "      <td>79.0</td>\n",
       "      <td>569.0</td>\n",
       "      <td>331.906031</td>\n",
       "    </tr>\n",
       "    <tr>\n",
       "      <th>37</th>\n",
       "      <td>6.0</td>\n",
       "      <td>63.0</td>\n",
       "      <td>78.0</td>\n",
       "      <td>27.0</td>\n",
       "      <td>6.0</td>\n",
       "      <td>66.0</td>\n",
       "      <td>262.191129</td>\n",
       "    </tr>\n",
       "    <tr>\n",
       "      <th>38</th>\n",
       "      <td>54.0</td>\n",
       "      <td>36.0</td>\n",
       "      <td>49.0</td>\n",
       "      <td>81.0</td>\n",
       "      <td>-195.0</td>\n",
       "      <td>65.0</td>\n",
       "      <td>61.535807</td>\n",
       "    </tr>\n",
       "    <tr>\n",
       "      <th>39</th>\n",
       "      <td>78.0</td>\n",
       "      <td>52.0</td>\n",
       "      <td>44.0</td>\n",
       "      <td>3.0</td>\n",
       "      <td>94.0</td>\n",
       "      <td>509.0</td>\n",
       "      <td>379.686629</td>\n",
       "    </tr>\n",
       "    <tr>\n",
       "      <th>40</th>\n",
       "      <td>94.0</td>\n",
       "      <td>41.0</td>\n",
       "      <td>45.0</td>\n",
       "      <td>93.0</td>\n",
       "      <td>-225.0</td>\n",
       "      <td>95.0</td>\n",
       "      <td>30.525485</td>\n",
       "    </tr>\n",
       "    <tr>\n",
       "      <th>41</th>\n",
       "      <td>13.0</td>\n",
       "      <td>8.0</td>\n",
       "      <td>31.0</td>\n",
       "      <td>74.0</td>\n",
       "      <td>-206.0</td>\n",
       "      <td>274.0</td>\n",
       "      <td>63.113741</td>\n",
       "    </tr>\n",
       "    <tr>\n",
       "      <th>42</th>\n",
       "      <td>57.0</td>\n",
       "      <td>24.0</td>\n",
       "      <td>51.0</td>\n",
       "      <td>49.0</td>\n",
       "      <td>-34.0</td>\n",
       "      <td>441.0</td>\n",
       "      <td>233.142898</td>\n",
       "    </tr>\n",
       "    <tr>\n",
       "      <th>43</th>\n",
       "      <td>47.0</td>\n",
       "      <td>13.0</td>\n",
       "      <td>52.0</td>\n",
       "      <td>58.0</td>\n",
       "      <td>-55.0</td>\n",
       "      <td>430.0</td>\n",
       "      <td>208.856018</td>\n",
       "    </tr>\n",
       "    <tr>\n",
       "      <th>44</th>\n",
       "      <td>2.0</td>\n",
       "      <td>19.0</td>\n",
       "      <td>82.0</td>\n",
       "      <td>24.0</td>\n",
       "      <td>114.0</td>\n",
       "      <td>149.0</td>\n",
       "      <td>371.427676</td>\n",
       "    </tr>\n",
       "    <tr>\n",
       "      <th>45</th>\n",
       "      <td>34.0</td>\n",
       "      <td>24.0</td>\n",
       "      <td>80.0</td>\n",
       "      <td>46.0</td>\n",
       "      <td>42.0</td>\n",
       "      <td>262.0</td>\n",
       "      <td>293.675679</td>\n",
       "    </tr>\n",
       "    <tr>\n",
       "      <th>46</th>\n",
       "      <td>17.0</td>\n",
       "      <td>42.0</td>\n",
       "      <td>65.0</td>\n",
       "      <td>97.0</td>\n",
       "      <td>-260.0</td>\n",
       "      <td>-95.0</td>\n",
       "      <td>-19.090565</td>\n",
       "    </tr>\n",
       "    <tr>\n",
       "      <th>47</th>\n",
       "      <td>80.0</td>\n",
       "      <td>5.0</td>\n",
       "      <td>38.0</td>\n",
       "      <td>55.0</td>\n",
       "      <td>-36.0</td>\n",
       "      <td>34.0</td>\n",
       "      <td>237.949970</td>\n",
       "    </tr>\n",
       "    <tr>\n",
       "      <th>48</th>\n",
       "      <td>32.0</td>\n",
       "      <td>91.0</td>\n",
       "      <td>82.0</td>\n",
       "      <td>53.0</td>\n",
       "      <td>-116.0</td>\n",
       "      <td>-46.0</td>\n",
       "      <td>128.311839</td>\n",
       "    </tr>\n",
       "    <tr>\n",
       "      <th>49</th>\n",
       "      <td>53.0</td>\n",
       "      <td>95.0</td>\n",
       "      <td>54.0</td>\n",
       "      <td>24.0</td>\n",
       "      <td>-71.0</td>\n",
       "      <td>334.0</td>\n",
       "      <td>198.868937</td>\n",
       "    </tr>\n",
       "    <tr>\n",
       "      <th>50</th>\n",
       "      <td>17.0</td>\n",
       "      <td>50.0</td>\n",
       "      <td>36.0</td>\n",
       "      <td>49.0</td>\n",
       "      <td>-171.0</td>\n",
       "      <td>94.0</td>\n",
       "      <td>101.643398</td>\n",
       "    </tr>\n",
       "  </tbody>\n",
       "</table>\n",
       "</div>"
      ],
      "text/plain": [
       "      X1    X2    X3    X4      Y   Ynew      Y_regr\n",
       "26  36.0  44.0  55.0  60.0 -127.0 -112.0  132.440980\n",
       "27  84.0  92.0  30.0  27.0 -118.0   82.0  165.020367\n",
       "28  59.0  19.0  75.0  61.0    2.0  132.0  252.310645\n",
       "29  55.0  27.0  19.0  72.0 -230.0 -125.0   46.502880\n",
       "30  92.0  15.0  69.0  23.0  177.0  512.0  444.762696\n",
       "31  29.0  14.0  19.0  12.0   10.0  470.0  306.951170\n",
       "32  76.0  87.0  37.0  30.0 -107.0 -102.0  171.228248\n",
       "33  76.0  58.0  63.0  32.0   21.0  396.0  286.029817\n",
       "34  39.0  55.0  79.0  43.0   -6.0  394.0  245.623919\n",
       "35  57.0  15.0   9.0  51.0 -150.0  305.0  139.866066\n",
       "36   8.0  86.0  93.0   9.0   79.0  569.0  331.906031\n",
       "37   6.0  63.0  78.0  27.0    6.0   66.0  262.191129\n",
       "38  54.0  36.0  49.0  81.0 -195.0   65.0   61.535807\n",
       "39  78.0  52.0  44.0   3.0   94.0  509.0  379.686629\n",
       "40  94.0  41.0  45.0  93.0 -225.0   95.0   30.525485\n",
       "41  13.0   8.0  31.0  74.0 -206.0  274.0   63.113741\n",
       "42  57.0  24.0  51.0  49.0  -34.0  441.0  233.142898\n",
       "43  47.0  13.0  52.0  58.0  -55.0  430.0  208.856018\n",
       "44   2.0  19.0  82.0  24.0  114.0  149.0  371.427676\n",
       "45  34.0  24.0  80.0  46.0   42.0  262.0  293.675679\n",
       "46  17.0  42.0  65.0  97.0 -260.0  -95.0  -19.090565\n",
       "47  80.0   5.0  38.0  55.0  -36.0   34.0  237.949970\n",
       "48  32.0  91.0  82.0  53.0 -116.0  -46.0  128.311839\n",
       "49  53.0  95.0  54.0  24.0  -71.0  334.0  198.868937\n",
       "50  17.0  50.0  36.0  49.0 -171.0   94.0  101.643398"
      ]
     },
     "metadata": {},
     "output_type": "display_data"
    }
   ],
   "source": [
    "print('Calibration Data:')\n",
    "display(data_cal)\n",
    "print('\\nValidation Data:')\n",
    "display(data_val)"
   ]
  },
  {
   "cell_type": "code",
   "execution_count": 19,
   "metadata": {
    "collapsed": false
   },
   "outputs": [
    {
     "name": "stdout",
     "output_type": "stream",
     "text": [
      "[('X1',), ('X2',), ('X3',), ('X4',), ('X1', 'X2'), ('X1', 'X3'), ('X1', 'X4'), ('X2', 'X3'), ('X2', 'X4'), ('X3', 'X4'), ('X1', 'X2', 'X3'), ('X1', 'X2', 'X4'), ('X1', 'X3', 'X4'), ('X2', 'X3', 'X4'), ('X1', 'X2', 'X3', 'X4')]\n"
     ]
    }
   ],
   "source": [
    "v0 = ['X1', 'X2', 'X3', 'X4']\n",
    "combos = []\n",
    "for i, v in enumerate(v0):\n",
    "    combos = combos + list(itertools.combinations(v0, i + 1))\n",
    "print(combos)"
   ]
  },
  {
   "cell_type": "code",
   "execution_count": 20,
   "metadata": {
    "collapsed": true
   },
   "outputs": [],
   "source": [
    "def get_formula(pred_list, response='Ynew'):\n",
    "    \"\"\"Return regression formula for list of predictor indices\"\"\"\n",
    "    return response + ' ~ ' + ' + '.join([pred for pred in pred_list])"
   ]
  },
  {
   "cell_type": "code",
   "execution_count": 21,
   "metadata": {
    "collapsed": false
   },
   "outputs": [
    {
     "data": {
      "text/plain": [
       "['Ynew ~ X1',\n",
       " 'Ynew ~ X2',\n",
       " 'Ynew ~ X3',\n",
       " 'Ynew ~ X4',\n",
       " 'Ynew ~ X1 + X2',\n",
       " 'Ynew ~ X1 + X3',\n",
       " 'Ynew ~ X1 + X4',\n",
       " 'Ynew ~ X2 + X3',\n",
       " 'Ynew ~ X2 + X4',\n",
       " 'Ynew ~ X3 + X4',\n",
       " 'Ynew ~ X1 + X2 + X3',\n",
       " 'Ynew ~ X1 + X2 + X4',\n",
       " 'Ynew ~ X1 + X3 + X4',\n",
       " 'Ynew ~ X2 + X3 + X4',\n",
       " 'Ynew ~ X1 + X2 + X3 + X4']"
      ]
     },
     "execution_count": 21,
     "metadata": {},
     "output_type": "execute_result"
    }
   ],
   "source": [
    "formulas = [get_formula(combo) for combo in combos]\n",
    "formulas"
   ]
  },
  {
   "cell_type": "code",
   "execution_count": 22,
   "metadata": {
    "collapsed": true
   },
   "outputs": [],
   "source": [
    "def cross_validate(data_cal, data_val, formula='', response='Ynew'):\n",
    "    lm = smf.ols(formula=formula, data=data_cal).fit()\n",
    "    Yval = lm.predict(data_val)\n",
    "    r_val, p_val = corrcoef(data_val[response], Yval, verbose=False)\n",
    "    return r_val, p_val"
   ]
  },
  {
   "cell_type": "code",
   "execution_count": 23,
   "metadata": {
    "collapsed": false
   },
   "outputs": [
    {
     "name": "stdout",
     "output_type": "stream",
     "text": [
      "Cross validate for Ynew ~ X1\n",
      "Cross validate for Ynew ~ X2\n",
      "Cross validate for Ynew ~ X3\n",
      "Cross validate for Ynew ~ X4\n",
      "Cross validate for Ynew ~ X1 + X2\n",
      "Cross validate for Ynew ~ X1 + X3\n",
      "Cross validate for Ynew ~ X1 + X4\n",
      "Cross validate for Ynew ~ X2 + X3\n",
      "Cross validate for Ynew ~ X2 + X4\n",
      "Cross validate for Ynew ~ X3 + X4\n",
      "Cross validate for Ynew ~ X1 + X2 + X3\n",
      "Cross validate for Ynew ~ X1 + X2 + X4\n",
      "Cross validate for Ynew ~ X1 + X3 + X4\n",
      "Cross validate for Ynew ~ X2 + X3 + X4\n",
      "Cross validate for Ynew ~ X1 + X2 + X3 + X4\n"
     ]
    }
   ],
   "source": [
    "r_vals, p_vals = [], []\n",
    "for formula in formulas:\n",
    "    print('Cross validate for ' + formula)\n",
    "    r, p = cross_validate(data_cal, data_val, formula=formula)\n",
    "    r_vals.append(r)\n",
    "    p_vals.append(p)"
   ]
  },
  {
   "cell_type": "code",
   "execution_count": 24,
   "metadata": {
    "collapsed": false
   },
   "outputs": [
    {
     "data": {
      "text/html": [
       "<div>\n",
       "<table border=\"1\" class=\"dataframe\">\n",
       "  <thead>\n",
       "    <tr style=\"text-align: right;\">\n",
       "      <th></th>\n",
       "      <th>r_val</th>\n",
       "      <th>p_val</th>\n",
       "    </tr>\n",
       "  </thead>\n",
       "  <tbody>\n",
       "    <tr>\n",
       "      <th>Ynew ~ X1</th>\n",
       "      <td>-0.056218</td>\n",
       "      <td>0.789538</td>\n",
       "    </tr>\n",
       "    <tr>\n",
       "      <th>Ynew ~ X2</th>\n",
       "      <td>0.146903</td>\n",
       "      <td>0.483475</td>\n",
       "    </tr>\n",
       "    <tr>\n",
       "      <th>Ynew ~ X3</th>\n",
       "      <td>0.133970</td>\n",
       "      <td>0.523184</td>\n",
       "    </tr>\n",
       "    <tr>\n",
       "      <th>Ynew ~ X4</th>\n",
       "      <td>0.558336</td>\n",
       "      <td>0.003724</td>\n",
       "    </tr>\n",
       "    <tr>\n",
       "      <th>Ynew ~ X1 + X2</th>\n",
       "      <td>0.131546</td>\n",
       "      <td>0.530796</td>\n",
       "    </tr>\n",
       "    <tr>\n",
       "      <th>Ynew ~ X1 + X3</th>\n",
       "      <td>0.154472</td>\n",
       "      <td>0.460964</td>\n",
       "    </tr>\n",
       "    <tr>\n",
       "      <th>Ynew ~ X1 + X4</th>\n",
       "      <td>0.560260</td>\n",
       "      <td>0.003583</td>\n",
       "    </tr>\n",
       "    <tr>\n",
       "      <th>Ynew ~ X2 + X3</th>\n",
       "      <td>0.211903</td>\n",
       "      <td>0.309210</td>\n",
       "    </tr>\n",
       "    <tr>\n",
       "      <th>Ynew ~ X2 + X4</th>\n",
       "      <td>0.659297</td>\n",
       "      <td>0.000338</td>\n",
       "    </tr>\n",
       "    <tr>\n",
       "      <th>Ynew ~ X3 + X4</th>\n",
       "      <td>0.464491</td>\n",
       "      <td>0.019324</td>\n",
       "    </tr>\n",
       "    <tr>\n",
       "      <th>Ynew ~ X1 + X2 + X3</th>\n",
       "      <td>0.225477</td>\n",
       "      <td>0.278500</td>\n",
       "    </tr>\n",
       "    <tr>\n",
       "      <th>Ynew ~ X1 + X2 + X4</th>\n",
       "      <td>0.660524</td>\n",
       "      <td>0.000326</td>\n",
       "    </tr>\n",
       "    <tr>\n",
       "      <th>Ynew ~ X1 + X3 + X4</th>\n",
       "      <td>0.492613</td>\n",
       "      <td>0.012358</td>\n",
       "    </tr>\n",
       "    <tr>\n",
       "      <th>Ynew ~ X2 + X3 + X4</th>\n",
       "      <td>0.564125</td>\n",
       "      <td>0.003311</td>\n",
       "    </tr>\n",
       "    <tr>\n",
       "      <th>Ynew ~ X1 + X2 + X3 + X4</th>\n",
       "      <td>0.587272</td>\n",
       "      <td>0.002026</td>\n",
       "    </tr>\n",
       "  </tbody>\n",
       "</table>\n",
       "</div>"
      ],
      "text/plain": [
       "                             r_val     p_val\n",
       "Ynew ~ X1                -0.056218  0.789538\n",
       "Ynew ~ X2                 0.146903  0.483475\n",
       "Ynew ~ X3                 0.133970  0.523184\n",
       "Ynew ~ X4                 0.558336  0.003724\n",
       "Ynew ~ X1 + X2            0.131546  0.530796\n",
       "Ynew ~ X1 + X3            0.154472  0.460964\n",
       "Ynew ~ X1 + X4            0.560260  0.003583\n",
       "Ynew ~ X2 + X3            0.211903  0.309210\n",
       "Ynew ~ X2 + X4            0.659297  0.000338\n",
       "Ynew ~ X3 + X4            0.464491  0.019324\n",
       "Ynew ~ X1 + X2 + X3       0.225477  0.278500\n",
       "Ynew ~ X1 + X2 + X4       0.660524  0.000326\n",
       "Ynew ~ X1 + X3 + X4       0.492613  0.012358\n",
       "Ynew ~ X2 + X3 + X4       0.564125  0.003311\n",
       "Ynew ~ X1 + X2 + X3 + X4  0.587272  0.002026"
      ]
     },
     "execution_count": 24,
     "metadata": {},
     "output_type": "execute_result"
    }
   ],
   "source": [
    "results = pd.DataFrame(index=formulas, columns=['r_val', 'p_val'])\n",
    "results['r_val'] = r_vals\n",
    "results['p_val'] = p_vals\n",
    "results"
   ]
  },
  {
   "cell_type": "code",
   "execution_count": 25,
   "metadata": {
    "collapsed": false
   },
   "outputs": [
    {
     "data": {
      "text/plain": [
       "'Ynew ~ X1 + X2 + X4'"
      ]
     },
     "execution_count": 25,
     "metadata": {},
     "output_type": "execute_result"
    }
   ],
   "source": [
    "formula_best = results.idxmin()['p_val']\n",
    "formula_best"
   ]
  },
  {
   "cell_type": "code",
   "execution_count": 26,
   "metadata": {
    "collapsed": false
   },
   "outputs": [
    {
     "data": {
      "text/html": [
       "<table class=\"simpletable\">\n",
       "<caption>OLS Regression Results</caption>\n",
       "<tr>\n",
       "  <th>Dep. Variable:</th>          <td>Ynew</td>       <th>  R-squared:         </th> <td>   0.444</td>\n",
       "</tr>\n",
       "<tr>\n",
       "  <th>Model:</th>                   <td>OLS</td>       <th>  Adj. R-squared:    </th> <td>   0.364</td>\n",
       "</tr>\n",
       "<tr>\n",
       "  <th>Method:</th>             <td>Least Squares</td>  <th>  F-statistic:       </th> <td>   5.581</td>\n",
       "</tr>\n",
       "<tr>\n",
       "  <th>Date:</th>             <td>Thu, 14 Sep 2017</td> <th>  Prob (F-statistic):</th>  <td>0.00562</td>\n",
       "</tr>\n",
       "<tr>\n",
       "  <th>Time:</th>                 <td>21:55:21</td>     <th>  Log-Likelihood:    </th> <td> -162.66</td>\n",
       "</tr>\n",
       "<tr>\n",
       "  <th>No. Observations:</th>      <td>    25</td>      <th>  AIC:               </th> <td>   333.3</td>\n",
       "</tr>\n",
       "<tr>\n",
       "  <th>Df Residuals:</th>          <td>    21</td>      <th>  BIC:               </th> <td>   338.2</td>\n",
       "</tr>\n",
       "<tr>\n",
       "  <th>Df Model:</th>              <td>     3</td>      <th>                     </th>     <td> </td>   \n",
       "</tr>\n",
       "<tr>\n",
       "  <th>Covariance Type:</th>      <td>nonrobust</td>    <th>                     </th>     <td> </td>   \n",
       "</tr>\n",
       "</table>\n",
       "<table class=\"simpletable\">\n",
       "<tr>\n",
       "      <td></td>         <th>coef</th>     <th>std err</th>      <th>t</th>      <th>P>|t|</th> <th>[95.0% Conf. Int.]</th> \n",
       "</tr>\n",
       "<tr>\n",
       "  <th>Intercept</th> <td>  439.6565</td> <td>  107.157</td> <td>    4.103</td> <td> 0.001</td> <td>  216.812   662.501</td>\n",
       "</tr>\n",
       "<tr>\n",
       "  <th>X1</th>        <td>    0.4533</td> <td>    1.336</td> <td>    0.339</td> <td> 0.738</td> <td>   -2.326     3.232</td>\n",
       "</tr>\n",
       "<tr>\n",
       "  <th>X2</th>        <td>   -1.7454</td> <td>    1.145</td> <td>   -1.524</td> <td> 0.142</td> <td>   -4.127     0.636</td>\n",
       "</tr>\n",
       "<tr>\n",
       "  <th>X4</th>        <td>   -4.5245</td> <td>    1.319</td> <td>   -3.430</td> <td> 0.003</td> <td>   -7.267    -1.782</td>\n",
       "</tr>\n",
       "</table>\n",
       "<table class=\"simpletable\">\n",
       "<tr>\n",
       "  <th>Omnibus:</th>       <td> 0.283</td> <th>  Durbin-Watson:     </th> <td>   1.494</td>\n",
       "</tr>\n",
       "<tr>\n",
       "  <th>Prob(Omnibus):</th> <td> 0.868</td> <th>  Jarque-Bera (JB):  </th> <td>   0.435</td>\n",
       "</tr>\n",
       "<tr>\n",
       "  <th>Skew:</th>          <td>-0.197</td> <th>  Prob(JB):          </th> <td>   0.805</td>\n",
       "</tr>\n",
       "<tr>\n",
       "  <th>Kurtosis:</th>      <td> 2.488</td> <th>  Cond. No.          </th> <td>    280.</td>\n",
       "</tr>\n",
       "</table>"
      ],
      "text/plain": [
       "<class 'statsmodels.iolib.summary.Summary'>\n",
       "\"\"\"\n",
       "                            OLS Regression Results                            \n",
       "==============================================================================\n",
       "Dep. Variable:                   Ynew   R-squared:                       0.444\n",
       "Model:                            OLS   Adj. R-squared:                  0.364\n",
       "Method:                 Least Squares   F-statistic:                     5.581\n",
       "Date:                Thu, 14 Sep 2017   Prob (F-statistic):            0.00562\n",
       "Time:                        21:55:21   Log-Likelihood:                -162.66\n",
       "No. Observations:                  25   AIC:                             333.3\n",
       "Df Residuals:                      21   BIC:                             338.2\n",
       "Df Model:                           3                                         \n",
       "Covariance Type:            nonrobust                                         \n",
       "==============================================================================\n",
       "                 coef    std err          t      P>|t|      [95.0% Conf. Int.]\n",
       "------------------------------------------------------------------------------\n",
       "Intercept    439.6565    107.157      4.103      0.001       216.812   662.501\n",
       "X1             0.4533      1.336      0.339      0.738        -2.326     3.232\n",
       "X2            -1.7454      1.145     -1.524      0.142        -4.127     0.636\n",
       "X4            -4.5245      1.319     -3.430      0.003        -7.267    -1.782\n",
       "==============================================================================\n",
       "Omnibus:                        0.283   Durbin-Watson:                   1.494\n",
       "Prob(Omnibus):                  0.868   Jarque-Bera (JB):                0.435\n",
       "Skew:                          -0.197   Prob(JB):                        0.805\n",
       "Kurtosis:                       2.488   Cond. No.                         280.\n",
       "==============================================================================\n",
       "\n",
       "Warnings:\n",
       "[1] Standard Errors assume that the covariance matrix of the errors is correctly specified.\n",
       "\"\"\""
      ]
     },
     "metadata": {},
     "output_type": "display_data"
    }
   ],
   "source": [
    "lm_best, _ = mlr(formula=formula_best, data=data_cal)"
   ]
  },
  {
   "cell_type": "code",
   "execution_count": 27,
   "metadata": {
    "collapsed": false
   },
   "outputs": [
    {
     "name": "stdout",
     "output_type": "stream",
     "text": [
      "Correlation coefficient: 0.659232\n",
      "p-value: 0.000000\n"
     ]
    },
    {
     "data": {
      "text/html": [
       "<div>\n",
       "<table border=\"1\" class=\"dataframe\">\n",
       "  <thead>\n",
       "    <tr style=\"text-align: right;\">\n",
       "      <th></th>\n",
       "      <th>X1</th>\n",
       "      <th>X2</th>\n",
       "      <th>X3</th>\n",
       "      <th>X4</th>\n",
       "      <th>Y</th>\n",
       "      <th>Ynew</th>\n",
       "      <th>Y_regr</th>\n",
       "      <th>Yfinal</th>\n",
       "    </tr>\n",
       "  </thead>\n",
       "  <tbody>\n",
       "    <tr>\n",
       "      <th>1</th>\n",
       "      <td>50.0</td>\n",
       "      <td>61.0</td>\n",
       "      <td>49.0</td>\n",
       "      <td>94.0</td>\n",
       "      <td>-301.0</td>\n",
       "      <td>44.0</td>\n",
       "      <td>-50.447862</td>\n",
       "      <td>-69.451755</td>\n",
       "    </tr>\n",
       "    <tr>\n",
       "      <th>2</th>\n",
       "      <td>96.0</td>\n",
       "      <td>27.0</td>\n",
       "      <td>34.0</td>\n",
       "      <td>88.0</td>\n",
       "      <td>-208.0</td>\n",
       "      <td>192.0</td>\n",
       "      <td>56.086482</td>\n",
       "      <td>37.888066</td>\n",
       "    </tr>\n",
       "    <tr>\n",
       "      <th>3</th>\n",
       "      <td>35.0</td>\n",
       "      <td>66.0</td>\n",
       "      <td>91.0</td>\n",
       "      <td>56.0</td>\n",
       "      <td>-48.0</td>\n",
       "      <td>127.0</td>\n",
       "      <td>191.898879</td>\n",
       "      <td>86.953056</td>\n",
       "    </tr>\n",
       "    <tr>\n",
       "      <th>4</th>\n",
       "      <td>59.0</td>\n",
       "      <td>69.0</td>\n",
       "      <td>37.0</td>\n",
       "      <td>63.0</td>\n",
       "      <td>-220.0</td>\n",
       "      <td>-90.0</td>\n",
       "      <td>47.485487</td>\n",
       "      <td>60.923486</td>\n",
       "    </tr>\n",
       "    <tr>\n",
       "      <th>5</th>\n",
       "      <td>23.0</td>\n",
       "      <td>75.0</td>\n",
       "      <td>12.0</td>\n",
       "      <td>59.0</td>\n",
       "      <td>-327.0</td>\n",
       "      <td>-152.0</td>\n",
       "      <td>-45.937334</td>\n",
       "      <td>52.232047</td>\n",
       "    </tr>\n",
       "  </tbody>\n",
       "</table>\n",
       "</div>"
      ],
      "text/plain": [
       "     X1    X2    X3    X4      Y   Ynew      Y_regr     Yfinal\n",
       "1  50.0  61.0  49.0  94.0 -301.0   44.0  -50.447862 -69.451755\n",
       "2  96.0  27.0  34.0  88.0 -208.0  192.0   56.086482  37.888066\n",
       "3  35.0  66.0  91.0  56.0  -48.0  127.0  191.898879  86.953056\n",
       "4  59.0  69.0  37.0  63.0 -220.0  -90.0   47.485487  60.923486\n",
       "5  23.0  75.0  12.0  59.0 -327.0 -152.0  -45.937334  52.232047"
      ]
     },
     "execution_count": 27,
     "metadata": {},
     "output_type": "execute_result"
    }
   ],
   "source": [
    "Yfinal = lm_best.predict(data)\n",
    "rfinal, pfinal = corrcoef(Ynew, Yfinal)\n",
    "data['Yfinal'] = Yfinal\n",
    "data.head()"
   ]
  },
  {
   "cell_type": "code",
   "execution_count": 28,
   "metadata": {
    "collapsed": false
   },
   "outputs": [
    {
     "name": "stdout",
     "output_type": "stream",
     "text": [
      "Correlation coefficient: 0.659232\n",
      "p-value: 0.000000\n"
     ]
    },
    {
     "data": {
      "text/plain": [
       "<matplotlib.text.Text at 0xcade0b8>"
      ]
     },
     "execution_count": 28,
     "metadata": {},
     "output_type": "execute_result"
    },
    {
     "data": {
      "image/png": "[encoded data removed]",
      "text/plain": [
       "<matplotlib.figure.Figure at 0xc7e4080>"
      ]
     },
     "metadata": {},
     "output_type": "display_data"
    }
   ],
   "source": [
    "scatterplot(data, 'Ynew', 'Yfinal')\n",
    "plt.title(formula_best + '    r=%.2f' % rfinal)"
   ]
  }
 ],
 "metadata": {
  "anaconda-cloud": {},
  "kernelspec": {
   "display_name": "Python 2",
   "language": "python",
   "name": "python2"
  },
  "language_info": {
   "codemirror_mode": {
    "name": "ipython",
    "version": 2
   },
   "file_extension": ".py",
   "mimetype": "text/x-python",
   "name": "python",
   "nbconvert_exporter": "python",
   "pygments_lexer": "ipython2",
   "version": "2.7.13"
  }
 },
 "nbformat": 4,
 "nbformat_minor": 1
}
